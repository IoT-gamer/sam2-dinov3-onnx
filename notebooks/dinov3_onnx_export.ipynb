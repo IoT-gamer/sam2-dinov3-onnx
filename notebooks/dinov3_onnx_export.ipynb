{
  "nbformat": 4,
  "nbformat_minor": 0,
  "metadata": {
    "colab": {
      "provenance": [],
      "authorship_tag": "ABX9TyNrGqqm+ovGzUzO/NxvInZu",
      "include_colab_link": true
    },
    "kernelspec": {
      "name": "python3",
      "display_name": "Python 3"
    },
    "language_info": {
      "name": "python"
    }
  },
  "cells": [
    {
      "cell_type": "markdown",
      "metadata": {
        "id": "view-in-github",
        "colab_type": "text"
      },
      "source": [
        "<a href=\"https://colab.research.google.com/github/IoT-gamer/segment-anything-dinov3-onnx/blob/main/notebooks/dinov3_onnx_export.ipynb\" target=\"_parent\"><img src=\"https://colab.research.google.com/assets/colab-badge.svg\" alt=\"Open In Colab\"/></a>"
      ]
    },
    {
      "cell_type": "markdown",
      "source": [
        "# DINOv3 Feature Extractor ONNX Export"
      ],
      "metadata": {
        "id": "ozqITfWPxoml"
      }
    },
    {
      "cell_type": "markdown",
      "source": [
        "## Acknoweldgements/References\n",
        "- [DINOv3 github repo](https://github.com/facebookresearch/dinov3)"
      ],
      "metadata": {
        "id": "8FGVzLRkyCsq"
      }
    },
    {
      "cell_type": "markdown",
      "source": [
        "## Dependencies"
      ],
      "metadata": {
        "id": "Q_kY4jReECsX"
      }
    },
    {
      "cell_type": "code",
      "source": [
        "!pip install onnx"
      ],
      "metadata": {
        "id": "sSSvXzL3FwWs"
      },
      "execution_count": null,
      "outputs": []
    },
    {
      "cell_type": "code",
      "source": [
        "from google.colab import userdata\n",
        "import torch\n",
        "import onnx"
      ],
      "metadata": {
        "id": "epGxdx4tEIsd"
      },
      "execution_count": null,
      "outputs": []
    },
    {
      "cell_type": "markdown",
      "source": [
        "## PyTorch Model Download\n",
        "- visit https://ai.meta.com/resources/models-and-libraries/dinov3-downloads/ to get weights URLs\n",
        "  - note: URLs may expire after a few days\n",
        "- two options:\n",
        "  1. download the weigths and store locally (recommended)\n",
        "  2. add a secret named `dinov3_vits16` and copy and past the dinov3_vits16 URL in the value."
      ],
      "metadata": {
        "id": "EH1Tyw0Fya15"
      }
    },
    {
      "cell_type": "code",
      "source": [
        "MODEL_DINOV3_VITS = \"dinov3_vits16\"\n",
        "MODEL_NAME = MODEL_DINOV3_VITS\n",
        "\n",
        "DEVICE = \"cpu\" # Select cuda or cpu\n",
        "\n",
        "# Set the path to your local weights file. If `None`, it will download from the URL.\n",
        "# For example: WEIGHTS_LOCAL_PATH = \"/path/to/dinov3_vits16.pt\"\n",
        "\n",
        "# WEIGHTS_LOCAL_PATH = None\n",
        "WEIGHTS_LOCAL_PATH = \"/path/to/dinov3_vits16_pretrain_lvd1689m-08c60483.pth\"\n",
        "\n",
        "if WEIGHTS_LOCAL_PATH and os.path.exists(WEIGHTS_LOCAL_PATH):\n",
        "    print(f\"Loading weights from local path: {WEIGHTS_LOCAL_PATH}\")\n",
        "    weights_source = WEIGHTS_LOCAL_PATH\n",
        "else:\n",
        "    print(\"Loading weights from remote URL.\")\n",
        "    # Add a secret named `dinov3_vits16` in Colab with the URL as the value\n",
        "    try:\n",
        "        WEIGHTS_URL = userdata.get('dinov3_vits16')\n",
        "        weights_source = WEIGHTS_URL\n",
        "    except Exception as e:\n",
        "        print(f\"Could not retrieve weights URL from Colab secrets. Please set WEIGHTS_LOCAL_PATH. Error: {e}\")\n",
        "        weights_source = None # Will cause an error if not set\n",
        "\n",
        "# Load the model\n",
        "model = torch.hub.load(\n",
        "    repo_or_dir=\"facebookresearch/dinov3\",\n",
        "    model=MODEL_NAME,\n",
        "    source=\"github\",\n",
        "    weights=weights_source\n",
        ")"
      ],
      "metadata": {
        "id": "I36hVOklylo5"
      },
      "execution_count": null,
      "outputs": []
    },
    {
      "cell_type": "markdown",
      "source": [
        "## Define PyTorch wrapper for DINOv3 Feature Extractor"
      ],
      "metadata": {
        "id": "XJBBSdz9CYYy"
      }
    },
    {
      "cell_type": "code",
      "execution_count": null,
      "metadata": {
        "id": "eItpoRO9xewv"
      },
      "outputs": [],
      "source": [
        "class DinoV3FeatureExtractor(torch.nn.Module):\n",
        "    def __init__(self, model, n_layers):\n",
        "        super().__init__()\n",
        "        self.model = model\n",
        "        self.n_layers = n_layers\n",
        "\n",
        "    def forward(self, x):\n",
        "        # Extract features from the last layer, normalized, as done during training\n",
        "        features_list = self.model.get_intermediate_layers(x, n=range(self.n_layers), reshape=True, norm=True)\n",
        "        last_layer_features = features_list[-1]  # Shape: (B, C, H_patches, W_patches)\n",
        "\n",
        "        # Reshape for classifier: (B, C, H*W) -> (B, H*W, C)\n",
        "        B, C, H, W = last_layer_features.shape\n",
        "        features_reshaped = last_layer_features.view(B, C, -1)\n",
        "        features_permuted = features_reshaped.permute(0, 2, 1)\n",
        "        return features_permuted"
      ]
    },
    {
      "cell_type": "markdown",
      "source": [
        "## Export DINOv3 Feature Extractor to ONNX"
      ],
      "metadata": {
        "id": "cv2WXjPNCOqA"
      }
    },
    {
      "cell_type": "code",
      "source": [
        "image_size = 768 # for dummy input (image size can be variable)\n",
        "n_layers = 12 # for dinov3_vits16\n",
        "onnx_feature_extractor_path = \"dinov3_feature_extractor.onnx\"\n",
        "# device = torch.device(\"cuda\" if torch.cuda.is_available() else \"cpu\")\n",
        "device = \"cpu\"\n",
        "onnx_exportable_dino = DinoV3FeatureExtractor(model, n_layers).to(device).eval()\n",
        "\n",
        "# Dummy input with dynamic axes for variable image sizes\n",
        "dummy_input = torch.randn(1, 3, image_size, image_size, device=device)\n",
        "\n",
        "print(f\"Exporting DINOv3 feature extractor to {onnx_feature_extractor_path}...\")\n",
        "torch.onnx.export(\n",
        "    onnx_exportable_dino,\n",
        "    dummy_input,\n",
        "    onnx_feature_extractor_path,\n",
        "    input_names=['input_image'],\n",
        "    output_names=['patch_features'],\n",
        "    dynamic_axes={\n",
        "        'input_image': {2: 'height', 3: 'width'},\n",
        "        'patch_features': {1: 'num_patches'}\n",
        "    },\n",
        "    opset_version=17\n",
        ")\n",
        "print(\"DINOv3 ONNX export complete!\")"
      ],
      "metadata": {
        "id": "vGawp5VVB66O"
      },
      "execution_count": null,
      "outputs": []
    }
  ]
}